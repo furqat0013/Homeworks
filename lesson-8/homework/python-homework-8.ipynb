{
 "cells": [
  {
   "cell_type": "markdown",
   "metadata": {},
   "source": [
    "Exception Handling Exercises"
   ]
  },
  {
   "cell_type": "code",
   "execution_count": null,
   "metadata": {},
   "outputs": [
    {
     "name": "stdout",
     "output_type": "stream",
     "text": [
      "Division by zero is not allowed\n"
     ]
    }
   ],
   "source": [
    "a = int(input())\n",
    "b = int(input())\n",
    "try:\n",
    "    result = a/b\n",
    "except ZeroDivisionError:\n",
    "    print('Division by zero is not allowed')\n",
    "else:\n",
    "    print(result)"
   ]
  },
  {
   "cell_type": "code",
   "execution_count": null,
   "metadata": {},
   "outputs": [],
   "source": [
    "def get_integer():\n",
    "    num = input()\n",
    "    if not num.isdigit():\n",
    "        raise ValueError('invalid input. please enter integer')\n",
    "    print(num)"
   ]
  },
  {
   "cell_type": "code",
   "execution_count": null,
   "metadata": {},
   "outputs": [
    {
     "name": "stdout",
     "output_type": "stream",
     "text": [
      "file not found\n",
      "file closed\n"
     ]
    }
   ],
   "source": [
    "try:\n",
    "    file = open('python_senior')\n",
    "except FileNotFoundError:\n",
    "    print('file not found')\n",
    "else:\n",
    "    print('file opened successfully')       \n",
    "    file.close()\n",
    "finally:\n",
    "    print('file closed')    \n"
   ]
  },
  {
   "cell_type": "code",
   "execution_count": null,
   "metadata": {},
   "outputs": [
    {
     "data": {
      "text/plain": [
       "'Division by zero is not allowed'"
      ]
     },
     "execution_count": 3,
     "metadata": {},
     "output_type": "execute_result"
    }
   ],
   "source": [
    "def divide_numbers(a, b):\n",
    "    try:\n",
    "        result = a / b\n",
    "    except ZeroDivisionError:\n",
    "        return \"Division by zero is not allowed\"\n",
    "    else:\n",
    "        return result\n",
    "divide_numbers(10, 0)"
   ]
  },
  {
   "cell_type": "code",
   "execution_count": null,
   "metadata": {},
   "outputs": [],
   "source": [
    "def read_file(file_path):\n",
    "    try:\n",
    "        with open(file_path, 'r') as file:\n",
    "            content = file.read()\n",
    "            print(content)\n",
    "    except PermissionError:\n",
    "        print(\"Permission denied: Unable to read the file.\")\n",
    "    except FileNotFoundError:\n",
    "        print(\"File not found.\")\n"
   ]
  },
  {
   "cell_type": "code",
   "execution_count": null,
   "metadata": {},
   "outputs": [],
   "source": [
    "def index_error(my_list, index):\n",
    "    try:\n",
    "        return my_list[index]\n",
    "    except IndexError:\n",
    "        return \"Index out of range. Please provide a valid index.\""
   ]
  },
  {
   "cell_type": "code",
   "execution_count": null,
   "metadata": {},
   "outputs": [
    {
     "name": "stdout",
     "output_type": "stream",
     "text": [
      "You entered: 4\n"
     ]
    }
   ],
   "source": [
    "def keyboardinterrupt():\n",
    "    try:\n",
    "        number = input(\"Enter a number: \")\n",
    "        print(f\"You entered: {number}\")\n",
    "    except KeyboardInterrupt:\n",
    "        print(\"Keyboard interrupt detected. Exiting the program.\")\n",
    "keyboardinterrupt()"
   ]
  },
  {
   "cell_type": "code",
   "execution_count": null,
   "metadata": {},
   "outputs": [
    {
     "data": {
      "text/plain": [
       "'An arithmetic error occurred.'"
      ]
     },
     "execution_count": 3,
     "metadata": {},
     "output_type": "execute_result"
    }
   ],
   "source": [
    "def arithmeticerror(a, b):\n",
    "    try:\n",
    "        result = a / b\n",
    "    except ArithmeticError:\n",
    "        return \"An arithmetic error occurred.\"\n",
    "    else:\n",
    "        return result\n",
    "arithmeticerror(10, 0)"
   ]
  },
  {
   "cell_type": "code",
   "execution_count": null,
   "metadata": {},
   "outputs": [
    {
     "name": "stdout",
     "output_type": "stream",
     "text": [
      "File not found.\n"
     ]
    }
   ],
   "source": [
    "def unicodedecodeerror(filename):\n",
    "    try:\n",
    "        with open(filename, 'r', encoding='utf-8') as file:\n",
    "            content = file.read()\n",
    "            print(content)\n",
    "    except UnicodeDecodeError:\n",
    "        print(\"Unicode decode error occurred. Unable to read the file with the specified encoding.\")\n",
    "    except FileNotFoundError:\n",
    "        print(\"File not found.\")\n",
    "unicodedecodeerror(filename='lesson-9.ipynb')"
   ]
  },
  {
   "cell_type": "code",
   "execution_count": null,
   "metadata": {},
   "outputs": [
    {
     "name": "stdout",
     "output_type": "stream",
     "text": [
      "Attribute error occurred. Unable to append to the list.\n"
     ]
    }
   ],
   "source": [
    "def attributeerror():\n",
    "    try:\n",
    "        lst = [1, 2, 3]\n",
    "        lst.non_existent_method()\n",
    "    except AttributeError:\n",
    "        print(\"Attribute error occurred. Unable to append to the list.\")\n",
    "    else:\n",
    "        print(\"List after appending:\", lst)\n",
    "attributeerror() "
   ]
  },
  {
   "cell_type": "code",
   "execution_count": null,
   "metadata": {},
   "outputs": [],
   "source": [
    "f = open('simple.txt', 'r')\n",
    "print(f.read())"
   ]
  },
  {
   "cell_type": "code",
   "execution_count": null,
   "metadata": {},
   "outputs": [],
   "source": [
    "f = open('simple.txt', 'r')\n",
    "print(f.readline())"
   ]
  },
  {
   "cell_type": "code",
   "execution_count": null,
   "metadata": {},
   "outputs": [],
   "source": [
    "with open('qwerty.txt', 'a') as f:\n",
    "    f.write('hello world')\n",
    "with open('qwerty.txt', 'r') as f:  \n",
    "    print(f.read())"
   ]
  },
  {
   "cell_type": "code",
   "execution_count": null,
   "metadata": {},
   "outputs": [],
   "source": [
    "f = open('asd.txt', 'r')\n",
    "lines = f.readlines()\n",
    "print(lines[-1])"
   ]
  },
  {
   "cell_type": "code",
   "execution_count": null,
   "metadata": {},
   "outputs": [],
   "source": [
    "lst = []\n",
    "with open('python-homework-1.ipynb', 'r') as f:\n",
    "    lst = f.readlines()\n",
    "    \n",
    "for i in lst:\n",
    "    print(i.strip())"
   ]
  },
  {
   "cell_type": "code",
   "execution_count": null,
   "metadata": {},
   "outputs": [],
   "source": [
    "a =''\n",
    "with open('python-homework-1.ipynb', 'r') as f:\n",
    "    for i in f:\n",
    "        a += i\n",
    "print(a)"
   ]
  },
  {
   "cell_type": "code",
   "execution_count": null,
   "metadata": {},
   "outputs": [],
   "source": [
    "ar = []\n",
    "with open('python-homework-1.ipynb', 'r') as f:\n",
    "    for i in f:\n",
    "        ar.append(i.strip())\n",
    "print(ar)"
   ]
  },
  {
   "cell_type": "code",
   "execution_count": null,
   "metadata": {},
   "outputs": [
    {
     "name": "stdout",
     "output_type": "stream",
     "text": [
      "The longest word in the file is: \"31.400000000000002\\n\"\n"
     ]
    }
   ],
   "source": [
    "def longest_w(filename):\n",
    "    longest_word = ''\n",
    "    with open(filename, 'r') as file:\n",
    "        for line in file:\n",
    "            words = line.split()\n",
    "            for word in words:\n",
    "                if len(word) > len(longest_word):\n",
    "                    longest_word = word\n",
    "    return longest_word"
   ]
  },
  {
   "cell_type": "code",
   "execution_count": 17,
   "metadata": {},
   "outputs": [
    {
     "name": "stdout",
     "output_type": "stream",
     "text": [
      "93\n"
     ]
    }
   ],
   "source": [
    "with open('python-homework-1.ipynb', 'r') as f:\n",
    "    count = sum(1 for i in f)\n",
    "print(count)"
   ]
  },
  {
   "cell_type": "code",
   "execution_count": null,
   "metadata": {},
   "outputs": [],
   "source": [
    "def word_frequency(filename):\n",
    "    word_freq = {}\n",
    "    with open(filename, 'r') as file:\n",
    "        for line in file:\n",
    "            words = line.split()\n",
    "            for word in words:\n",
    "                word_freq[word] = word_freq.get(word, 0) + 1\n",
    "    return word_freq\n",
    "word_freq = word_frequency('python-homework-1.ipynb')\n",
    "print(word_freq)"
   ]
  },
  {
   "cell_type": "code",
   "execution_count": 25,
   "metadata": {},
   "outputs": [
    {
     "name": "stdout",
     "output_type": "stream",
     "text": [
      "File size: 1463 bytes\n"
     ]
    }
   ],
   "source": [
    "def file_size(filename):\n",
    "    try:\n",
    "        with open(filename, 'r') as file:\n",
    "            content = file.read()\n",
    "            return len(content)\n",
    "    except FileNotFoundError:\n",
    "        return \"File not found.\"\n",
    "size = file_size('python-homework-1.ipynb')\n",
    "print(f'File size: {size} bytes')"
   ]
  },
  {
   "cell_type": "code",
   "execution_count": null,
   "metadata": {},
   "outputs": [],
   "source": [
    "def lst_to_f(filename, lst):\n",
    "    with open(filename, 'w') as file:\n",
    "        for item in lst:\n",
    "            file.write(str(item) + '\\n')\n",
    "lst = ['apple', 'banana', 'cherry']\n",
    "filename = 'example.txt'\n",
    "lst_to_f(filename, lst)"
   ]
  },
  {
   "cell_type": "code",
   "execution_count": null,
   "metadata": {},
   "outputs": [],
   "source": [
    "def cont(file1, file2):\n",
    "    with open(file1, 'r') as f1, open(file2, 'w') as f2:\n",
    "        for line in f1:\n",
    "            f2.write(line)\n",
    "cont('python-homework-1.ipynb', 'new_file.txt')"
   ]
  },
  {
   "cell_type": "code",
   "execution_count": null,
   "metadata": {},
   "outputs": [],
   "source": [
    "def two_f(file1, file2):\n",
    "    with open(file1, 'r') as f1, open(file2, 'r') as f2:\n",
    "        content1 = f1.readlines()\n",
    "        content2 = f2.readlines()\n",
    "    if len(content1) != len(content2):\n",
    "        return False\n",
    "    for line1, line2 in zip(content1, content2):\n",
    "        if line1 != line2:\n",
    "            return False    \n",
    "    return True\n",
    "file1 = 'python-homework-1.ipynb'\n",
    "file2 = 'new_file.txt'\n",
    "result = two_f(file1, file2)\n",
    "    "
   ]
  },
  {
   "cell_type": "code",
   "execution_count": 30,
   "metadata": {},
   "outputs": [
    {
     "name": "stdout",
     "output_type": "stream",
     "text": [
      "\"print((a + b)/2)\"\n"
     ]
    }
   ],
   "source": [
    "import random\n",
    "def file(filename):\n",
    "    with open(filename, 'r') as f:\n",
    "        lines = f.readlines()\n",
    "    random_line = random.choice(lines)\n",
    "    return random_line.strip()\n",
    "filename = 'python-homework-1.ipynb'    \n",
    "random_line = file(filename)\n",
    "print(random_line)"
   ]
  },
  {
   "cell_type": "code",
   "execution_count": null,
   "metadata": {},
   "outputs": [],
   "source": [
    "def assess(filename):\n",
    "    try:\n",
    "        f = open(filename, 'r')\n",
    "        content = f.read()\n",
    "        print(content)\n",
    "        print(f'is the file open? {f.closed}')\n",
    "    except FileNotFoundError:   \n",
    "        print(\"File not found.\")\n",
    "    finally:\n",
    "        f.close()\n",
    "        print(\"File operation completed.\")\n",
    "filename = 'python-homework-1.ipynb'"
   ]
  },
  {
   "cell_type": "code",
   "execution_count": null,
   "metadata": {},
   "outputs": [],
   "source": [
    "def remove_newline(filename):\n",
    "    with open(filename, 'r') as f:\n",
    "        lines = f.readlines()\n",
    "    with open(filename, 'w') as f:\n",
    "        for line in lines:\n",
    "            f.write(line.rstrip('\\n'))\n",
    "remove_newline('python-homework-1.ipynb')\n",
    "print(\"Newline characters removed from the file.\")\n"
   ]
  },
  {
   "cell_type": "code",
   "execution_count": 2,
   "metadata": {},
   "outputs": [
    {
     "name": "stdout",
     "output_type": "stream",
     "text": [
      "Number of words in the file: 128\n"
     ]
    }
   ],
   "source": [
    "import re\n",
    "def count_words(filename):\n",
    "    with open(filename, 'r') as f:\n",
    "        content = f.read()\n",
    "    words = re.findall(r'\\b\\w+\\b', content)\n",
    "    return len(words)\n",
    "filename = 'python-homework-1.ipynb'\n",
    "word_count = count_words(filename)\n",
    "print(f'Number of words in the file: {word_count}')"
   ]
  },
  {
   "cell_type": "code",
   "execution_count": null,
   "metadata": {},
   "outputs": [],
   "source": [
    "def extract_characters(filename):\n",
    "    lst = []\n",
    "    with open(filename, 'r') as f:\n",
    "        for line in f:\n",
    "            lst.extend(line.strip())\n",
    "    return lst\n",
    "filename = 'python-homework-1.ipynb'\n",
    "characters = extract_characters(filename)\n",
    "print(characters)"
   ]
  },
  {
   "cell_type": "code",
   "execution_count": 4,
   "metadata": {},
   "outputs": [],
   "source": [
    "import string\n",
    "def generate_file():\n",
    "    for letter in string.ascii_uppercase:\n",
    "        filename = f\"{letter}.txt\"\n",
    "        with open(filename, 'w') as f:\n",
    "            f.write(f\"This is file {letter}.\")\n",
    "generate_file() "
   ]
  },
  {
   "cell_type": "code",
   "execution_count": 6,
   "metadata": {},
   "outputs": [],
   "source": [
    "import string\n",
    "def letters():\n",
    "    with open('letters.txt', 'w') as f:\n",
    "        for letter in enumerate(string.ascii_uppercase):\n",
    "            f.write(f\"{letter[0]+1}: {letter[1]}\\n\")\n",
    "letters()"
   ]
  }
 ],
 "metadata": {
  "kernelspec": {
   "display_name": "Python 3",
   "language": "python",
   "name": "python3"
  },
  "language_info": {
   "codemirror_mode": {
    "name": "ipython",
    "version": 3
   },
   "file_extension": ".py",
   "mimetype": "text/x-python",
   "name": "python",
   "nbconvert_exporter": "python",
   "pygments_lexer": "ipython3",
   "version": "3.13.2"
  }
 },
 "nbformat": 4,
 "nbformat_minor": 2
}
