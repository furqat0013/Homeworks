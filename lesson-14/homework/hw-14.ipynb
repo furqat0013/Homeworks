{
 "cells": [
  {
   "cell_type": "code",
   "execution_count": null,
   "id": "18587eb4",
   "metadata": {},
   "outputs": [],
   "source": [
    "import json\n",
    "with open('students.json', 'r') as file:\n",
    "    data = json.load(file)\n",
    "    for student in data['students']:\n",
    "        print(f\"Name: {student['name']}, Age: {student['age']}, Major: {student['major']}\")"
   ]
  },
  {
   "cell_type": "code",
   "execution_count": 7,
   "id": "9cae57c0",
   "metadata": {},
   "outputs": [
    {
     "name": "stdout",
     "output_type": "stream",
     "text": [
      "Temperature: 29.92°C, Humidity: 24%, Description: scattered clouds\n"
     ]
    }
   ],
   "source": [
    "import requests\n",
    "city = \"Tashkent\"\n",
    "api_key = 'bf6971b2d4ab096ca13cbb7e19d7303a'\n",
    "url = f\"http://api.openweathermap.org/data/2.5/weather?q={city}&appid={api_key}&units=metric\"\n",
    "response = requests.get(url)\n",
    "weather_data = response.json()\n",
    "if response.status_code == 200:\n",
    "    temperature = weather_data['main']['temp']\n",
    "    humidity = weather_data['main']['humidity']\n",
    "    description = weather_data['weather'][0]['description']\n",
    "    print(f\"Temperature: {temperature}°C, Humidity: {humidity}%, Description: {description}\")\n",
    "else:\n",
    "    print(\"Error fetching weather data:\", weather_data.get('message', 'Unknown error'))"
   ]
  },
  {
   "cell_type": "code",
   "execution_count": null,
   "id": "cca7f2c3",
   "metadata": {},
   "outputs": [],
   "source": [
    "import json\n",
    "with open('books.json', 'a') as file:\n",
    "    books = []\n",
    "    new_book = {\n",
    "        \"title\": \"Alchemist\",\n",
    "        \"author\": \"Unknown\",\n",
    "        \"year\": 2023\n",
    "    }\n",
    "    books.append(new_book)\n",
    "    json.dump(books, file, indent=4)"
   ]
  },
  {
   "cell_type": "code",
   "execution_count": 22,
   "id": "f0991ee6",
   "metadata": {},
   "outputs": [],
   "source": [
    "update_book = {\n",
    "    \"title\": \"Alchemist\",\n",
    "    \"author\": \"Unknown\",\n",
    "    \"year\": 2024\n",
    "}\n",
    "with open('books.json', 'r') as file:\n",
    "    books = json.load(file)\n",
    "    for book in books:\n",
    "        if book['title'] == update_book['title']:\n",
    "            book['year'] = update_book['year']\n",
    "            break\n",
    "with open('books.json', 'w') as file:\n",
    "    json.dump(books, file, indent=4)\n",
    "    "
   ]
  },
  {
   "cell_type": "code",
   "execution_count": 24,
   "id": "39c81951",
   "metadata": {},
   "outputs": [],
   "source": [
    "delete_book_title = \"Alchemist\"\n",
    "with open('books.json', 'r') as file:\n",
    "    books = json.load(file)\n",
    "    books = [book for book in books if book['title'] != delete_book_title]\n",
    "with open('books.json', 'w') as file:\n",
    "    json.dump(books, file, indent=4)"
   ]
  },
  {
   "cell_type": "code",
   "execution_count": null,
   "id": "2f54dfd1",
   "metadata": {},
   "outputs": [],
   "source": [
    "with open('books.json', 'r') as file:\n",
    "    books = json.load(file)\n",
    "    for book in books:\n",
    "        print(f\"Title: {book['title']}, Author: {book['author']}, Year: {book['year']}\")"
   ]
  },
  {
   "cell_type": "code",
   "execution_count": null,
   "id": "f83a0843",
   "metadata": {},
   "outputs": [
    {
     "name": "stdout",
     "output_type": "stream",
     "text": [
      "Recommended Movie: A Woman of Paris: A Drama of Fate (1923)\n"
     ]
    }
   ],
   "source": [
    "import requests\n",
    "import random\n",
    "genre = input(\"Enter a movie genre: \")\n",
    "api_key = '8f6fd3c2'\n",
    "url = f\"http://www.omdbapi.com/?s={genre}&apikey={api_key}\"\n",
    "response = requests.get(url)\n",
    "movie_data = response.json()\n",
    "if response.status_code == 200:\n",
    "    movies = movie_data.get('Search', [])\n",
    "    if movies:\n",
    "        recommended_movie = random.choice(movies)\n",
    "        print(f\"Recommended Movie: {recommended_movie['Title']} ({recommended_movie['Year']})\")\n",
    "    else:\n",
    "        print(\"No movies found for this genre.\")\n",
    "else:\n",
    "    print(\"Error fetching movie data:\", movie_data.get('Error', 'Unknown error'))"
   ]
  }
 ],
 "metadata": {
  "kernelspec": {
   "display_name": "Python 3",
   "language": "python",
   "name": "python3"
  },
  "language_info": {
   "codemirror_mode": {
    "name": "ipython",
    "version": 3
   },
   "file_extension": ".py",
   "mimetype": "text/x-python",
   "name": "python",
   "nbconvert_exporter": "python",
   "pygments_lexer": "ipython3",
   "version": "3.13.2"
  }
 },
 "nbformat": 4,
 "nbformat_minor": 5
}
