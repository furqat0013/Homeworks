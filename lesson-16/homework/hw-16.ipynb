{
 "cells": [
  {
   "cell_type": "code",
   "execution_count": null,
   "id": "869f4964",
   "metadata": {},
   "outputs": [
    {
     "name": "stdout",
     "output_type": "stream",
     "text": [
      "[1 2 3 4 5]\n"
     ]
    }
   ],
   "source": [
    "import numpy as np\n",
    "list1 = [1, 2, 3, 4, 5]\n",
    "print(np.array(list1))"
   ]
  },
  {
   "cell_type": "code",
   "execution_count": null,
   "id": "d581888a",
   "metadata": {},
   "outputs": [
    {
     "name": "stdout",
     "output_type": "stream",
     "text": [
      "[[ 2  3  4]\n",
      " [ 5  6  7]\n",
      " [ 8  9 10]]\n"
     ]
    }
   ],
   "source": [
    "list2 = np.arange(2, 11).reshape(3, 3)\n",
    "print(list2)"
   ]
  },
  {
   "cell_type": "code",
   "execution_count": null,
   "id": "cbc57429",
   "metadata": {},
   "outputs": [
    {
     "name": "stdout",
     "output_type": "stream",
     "text": [
      "[ 0.  0.  0.  0.  0. 11.  0.  0.  0.  0.]\n"
     ]
    }
   ],
   "source": [
    "list1 = np.zeros(10)\n",
    "list1[5] = 11\n",
    "print(list1)"
   ]
  },
  {
   "cell_type": "code",
   "execution_count": null,
   "id": "21659304",
   "metadata": {},
   "outputs": [
    {
     "name": "stdout",
     "output_type": "stream",
     "text": [
      "[12 13 14 15 16 17 18 19 20 21 22 23 24 25 26 27 28 29 30 31 32 33 34 35\n",
      " 36 37]\n"
     ]
    }
   ],
   "source": [
    "list3 = np.arange(12,38)\n",
    "print(list3)"
   ]
  },
  {
   "cell_type": "code",
   "execution_count": null,
   "id": "bbdfb0da",
   "metadata": {},
   "outputs": [
    {
     "name": "stdout",
     "output_type": "stream",
     "text": [
      "[1. 2. 3. 4. 5.]\n"
     ]
    }
   ],
   "source": [
    "list4 = np.array([1, 2, 3, 4, 5])\n",
    "list4 = list4.astype(float)\n",
    "print(list4)"
   ]
  },
  {
   "cell_type": "code",
   "execution_count": null,
   "id": "799ad105",
   "metadata": {},
   "outputs": [
    {
     "name": "stdout",
     "output_type": "stream",
     "text": [
      "Values in Fahrenheit degrees: [ 0.   12.   45.21 34.   99.91 32.  ]\n",
      "Values in Centigrade degrees: [-17.78 -11.11   7.34   1.11  37.73   0.  ]\n"
     ]
    }
   ],
   "source": [
    "import numpy as np\n",
    "fahrenheit = np.array([0, 12, 45.21, 34, 99.91, 32])\n",
    "celsius = np.round((fahrenheit - 32) * (5/9), 2)\n",
    "print(\"Values in Fahrenheit degrees:\", fahrenheit)\n",
    "print(\"Values in Centigrade degrees:\", celsius)\n"
   ]
  },
  {
   "cell_type": "code",
   "execution_count": null,
   "id": "95e3a892",
   "metadata": {},
   "outputs": [
    {
     "name": "stdout",
     "output_type": "stream",
     "text": [
      "[10 20 30 40 50 60 70 80 90]\n"
     ]
    }
   ],
   "source": [
    "import numpy as np\n",
    "arr = np.array([10, 20, 30])\n",
    "arr = np.append(arr, [40, 50, 60, 70, 80, 90])\n",
    "print(arr)"
   ]
  },
  {
   "cell_type": "code",
   "execution_count": null,
   "id": "95944244",
   "metadata": {},
   "outputs": [
    {
     "name": "stdout",
     "output_type": "stream",
     "text": [
      "[32 72 45 30 68 27 93 69 90 44]\n",
      "Mean: 57.0\n",
      "Median: 56.5\n",
      "Standard Deviation: 23.32809465001375\n"
     ]
    }
   ],
   "source": [
    "import numpy as np\n",
    "array = np.random.randint(1, 100, 10)\n",
    "mean = np.mean(array)\n",
    "median = np.median(array)\n",
    "std = np.std(array)\n",
    "print(array)\n",
    "print(\"Mean:\", mean)\n",
    "print(\"Median:\", median)\n",
    "print(\"Standard Deviation:\", std)"
   ]
  },
  {
   "cell_type": "code",
   "execution_count": null,
   "id": "ce64718c",
   "metadata": {},
   "outputs": [
    {
     "name": "stdout",
     "output_type": "stream",
     "text": [
      "[[0.51 0.05 0.53 0.94 0.63 0.62 0.76 0.57 0.95 0.7 ]\n",
      " [0.9  0.48 0.59 0.92 0.55 0.54 0.74 0.1  0.76 0.14]\n",
      " [0.39 0.73 0.56 0.63 0.14 0.39 0.95 0.18 0.08 0.63]\n",
      " [0.71 0.7  0.46 0.89 0.84 0.47 0.36 0.08 0.32 0.25]\n",
      " [0.43 0.21 0.93 0.11 0.33 0.87 1.   0.02 0.21 0.92]\n",
      " [0.14 0.23 0.72 0.05 0.52 0.9  0.93 0.51 0.26 0.74]\n",
      " [0.87 0.29 0.93 0.89 0.81 0.58 0.11 0.91 0.55 0.83]\n",
      " [0.56 0.14 0.64 0.48 0.78 0.34 0.9  0.43 0.92 0.36]\n",
      " [0.88 0.16 0.84 0.9  0.36 0.77 0.5  0.6  0.94 0.13]\n",
      " [0.08 0.74 0.93 0.75 0.83 0.01 0.5  0.59 0.81 0.53]]\n",
      "Minimum value: 0.01\n",
      "Maximum value: 1.0\n"
     ]
    }
   ],
   "source": [
    "import numpy as np\n",
    "ar = np.random.rand(10, 10)\n",
    "ar = np.round(ar, 2) \n",
    "print(ar)\n",
    "print(\"Minimum value:\", ar.min())\n",
    "print(\"Maximum value:\", ar.max())"
   ]
  },
  {
   "cell_type": "code",
   "execution_count": 17,
   "id": "a88b3658",
   "metadata": {},
   "outputs": [
    {
     "name": "stdout",
     "output_type": "stream",
     "text": [
      "[[[0.35464414 0.71530604 0.08494171]\n",
      "  [0.85339438 0.54974983 0.40499888]\n",
      "  [0.69794384 0.67647775 0.26320787]]\n",
      "\n",
      " [[0.05378355 0.30690547 0.45370658]\n",
      "  [0.53077973 0.85337676 0.18452539]\n",
      "  [0.15695163 0.08188725 0.45860934]]\n",
      "\n",
      " [[0.39196543 0.0064249  0.35854677]\n",
      "  [0.63735969 0.60417699 0.40879819]\n",
      "  [0.5474168  0.8807474  0.77411836]]]\n"
     ]
    }
   ],
   "source": [
    "import numpy as np\n",
    "arr1 = np.random.rand(3,3,3)\n",
    "print(arr1)"
   ]
  }
 ],
 "metadata": {
  "kernelspec": {
   "display_name": "Python 3",
   "language": "python",
   "name": "python3"
  },
  "language_info": {
   "codemirror_mode": {
    "name": "ipython",
    "version": 3
   },
   "file_extension": ".py",
   "mimetype": "text/x-python",
   "name": "python",
   "nbconvert_exporter": "python",
   "pygments_lexer": "ipython3",
   "version": "3.13.2"
  }
 },
 "nbformat": 4,
 "nbformat_minor": 5
}
