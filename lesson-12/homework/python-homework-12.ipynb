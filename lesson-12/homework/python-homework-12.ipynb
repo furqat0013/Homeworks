{
 "cells": [
  {
   "cell_type": "code",
   "execution_count": null,
   "id": "2c589a1f",
   "metadata": {},
   "outputs": [
    {
     "name": "stdout",
     "output_type": "stream",
     "text": [
      "Prime numbers between 1 and 100 are:\n",
      "[2, 3, 5, 7, 11, 13, 17, 19, 23, 29, 31, 37, 41, 43, 47, 53, 59, 61, 67, 71, 73, 79, 83, 89, 97]\n"
     ]
    }
   ],
   "source": [
    "import threading\n",
    "import time\n",
    "import math\n",
    "def prime_numbers(start, end):\n",
    "    primes = []\n",
    "    for num in range(start, end + 1):\n",
    "        if num > 1:\n",
    "            for i in range(2, int(math.sqrt(num)) + 1):\n",
    "                if num % i == 0:\n",
    "                    break\n",
    "            else:\n",
    "                primes.append(num)\n",
    "    return primes\n",
    "time.sleep(1)\n",
    "all_primes = []\n",
    "lock = threading.Lock()\n",
    "def collect_primes(start, end, lock):\n",
    "    primes = prime_numbers(start, end)\n",
    "    with lock:\n",
    "        all_primes.extend(primes)\n",
    "\n",
    "t1 = threading.Thread(target=collect_primes, args = (1, 25, lock))\n",
    "t2 = threading.Thread(target=collect_primes, args = (26, 50, lock))\n",
    "t3 = threading.Thread(target=collect_primes, args = (51, 75, lock))\n",
    "t4 = threading.Thread(target=collect_primes, args = (76, 100, lock))\n",
    "t1.start()\n",
    "t2.start()\n",
    "t3.start()\n",
    "t4.start()\n",
    "t1.join()\n",
    "t2.join()\n",
    "t3.join()\n",
    "t4.join()   \n",
    "print(\"Prime numbers between 1 and 100 are:\")\n",
    "print(all_primes)"
   ]
  },
  {
   "cell_type": "code",
   "execution_count": 13,
   "id": "596512db",
   "metadata": {},
   "outputs": [
    {
     "name": "stdout",
     "output_type": "stream",
     "text": [
      "Thread Thread-1 processed 11705 words.\n",
      "Thread Thread-2 processed 12020 words.\n",
      "Thread Thread-3 processed 12094 words.\n",
      "Thread Thread-4 processed 12161 words.\n",
      "total words: 47980\n"
     ]
    }
   ],
   "source": [
    "#threaded file processing\n",
    "import threading\n",
    "import time\n",
    "with open('movietxt.txt', 'r', encoding='utf-8') as file:\n",
    "    lines = file.readlines()\n",
    "    st_size = len(lines)//4\n",
    "    st = [lines[i:i + st_size] for i in range(0, len(lines), st_size)]\n",
    "lock = threading.Lock()\n",
    "def count_words(lines, lock, total_words):\n",
    "    word_count = 0\n",
    "    for line in lines:\n",
    "        word_count += len(line.split())\n",
    "    with lock:\n",
    "        total_words[0]+= word_count\n",
    "        print(f\"Thread {threading.current_thread().name} processed {word_count} words.\")\n",
    "        time.sleep(1)\n",
    "total_words = [0]\n",
    "t1 = threading.Thread(target=count_words, args=(st[0], lock, total_words), name='Thread-1')\n",
    "t2 = threading.Thread(target=count_words, args=(st[1], lock, total_words), name='Thread-2')\n",
    "t3 = threading.Thread(target=count_words, args=(st[2], lock, total_words), name='Thread-3')\n",
    "t4 = threading.Thread(target=count_words, args=(st[3], lock, total_words), name='Thread-4')\n",
    "t1.start()\n",
    "t2.start()\n",
    "t3.start()\n",
    "t4.start()\n",
    "t1.join()   \n",
    "t2.join()\n",
    "t3.join()\n",
    "t4.join()\n",
    "print(f\"total words: {total_words[0]}\")"
   ]
  }
 ],
 "metadata": {
  "kernelspec": {
   "display_name": "Python 3",
   "language": "python",
   "name": "python3"
  },
  "language_info": {
   "codemirror_mode": {
    "name": "ipython",
    "version": 3
   },
   "file_extension": ".py",
   "mimetype": "text/x-python",
   "name": "python",
   "nbconvert_exporter": "python",
   "pygments_lexer": "ipython3",
   "version": "3.13.2"
  }
 },
 "nbformat": 4,
 "nbformat_minor": 5
}
