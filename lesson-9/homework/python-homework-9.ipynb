{
 "cells": [
  {
   "cell_type": "code",
   "execution_count": 4,
   "metadata": {},
   "outputs": [
    {
     "name": "stdout",
     "output_type": "stream",
     "text": [
      "Area of the circle = 78.53981633974483\n",
      "Perimeter of the circle = 31.41592653589793\n"
     ]
    }
   ],
   "source": [
    "\n",
    "from math import pi\n",
    "class Circle:\n",
    "    def __init__(self, radius):\n",
    "        self.radius= radius\n",
    "\n",
    "    def area(self):\n",
    "        print(f'Area of the circle = {pi*(self.radius**2)}')\n",
    "\n",
    "    def perimeter(self):\n",
    "        print(f'Perimeter of the circle = {2*pi*(self.radius)}')\n",
    "\n",
    "my_circle = Circle(5)\n",
    "my_circle.area()\n",
    "my_circle.perimeter()\n"
   ]
  },
  {
   "cell_type": "code",
   "execution_count": 8,
   "metadata": {},
   "outputs": [
    {
     "name": "stdout",
     "output_type": "stream",
     "text": [
      "Jack you are 24 years old\n"
     ]
    }
   ],
   "source": [
    "from datetime import datetime, date\n",
    "class Person:\n",
    "    def __init__(self, name, country, date_of_birth):\n",
    "        self.name = name\n",
    "        self.country = country\n",
    "        self.dob = datetime.strptime(date_of_birth, '%Y.%m.%d').date()\n",
    "\n",
    "    def person_age(self):\n",
    "        date1 = date.today()\n",
    "        date2 = self.dob\n",
    "        age = date1.year-date2.year\n",
    "        if (date1.month, date1.day)<(date2.month, date2.day):\n",
    "            age -=1\n",
    "        print(f'{self.name} you are {age} years old')\n",
    "\n",
    "p = Person(name='Jack', country='USA', date_of_birth='2000.10.10')\n",
    "p.person_age()\n",
    "        "
   ]
  },
  {
   "cell_type": "code",
   "execution_count": 1,
   "metadata": {},
   "outputs": [
    {
     "name": "stdout",
     "output_type": "stream",
     "text": [
      "40\n",
      "14\n",
      "6\n",
      "2.5\n"
     ]
    }
   ],
   "source": [
    "class Calculator:\n",
    "    def __init__(self, a, b):\n",
    "        self.a = a\n",
    "        self.b = b\n",
    "    def multiple(self):\n",
    "        print(self.a * self.b)\n",
    "    def add(self):\n",
    "        print(self.a + self.b)\n",
    "    def minus(self):\n",
    "        print(self.a - self.b)\n",
    "    def divide(self):\n",
    "        print(self.a / self.b)\n",
    "c = Calculator(a=10, b=4)\n",
    "c.multiple()\n",
    "c.add()\n",
    "c.minus()\n",
    "c.divide()"
   ]
  },
  {
   "cell_type": "code",
   "execution_count": 1,
   "metadata": {},
   "outputs": [],
   "source": [
    "import math\n",
    "class Shape:\n",
    "    def area(self):\n",
    "        pass\n",
    "    def perimeter(self):\n",
    "        pass\n",
    "class Circle(Shape):\n",
    "    def __init__(self, radius):\n",
    "        self.radius = radius\n",
    "    def area(self):\n",
    "        return math.pi * self.radius**2\n",
    "    def perimeter(self):\n",
    "        return 2 * math.pi * self.radius\n",
    "class Triangle(Shape):\n",
    "    def __init__(self, a, b, c):\n",
    "        self.a = a\n",
    "        self.b = b\n",
    "        self.c = c\n",
    "    def area(self):\n",
    "        return math.sqrt(((self.a + self.b + self.c)/2)*(((self.a + self.b + self.c)/2)-self.a)*(((self.a + self.b + self.c)/2)-self.b)*(((self.a + self.b + self.c)/2)-self.c))\n",
    "    def perimeter(self):\n",
    "        return self.a + self.b + self.c\n",
    "class Square(Shape):\n",
    "    def __init__(self, side):\n",
    "        self.side = side\n",
    "    def area(self):\n",
    "        return self.side*self.side\n",
    "    def perimeter(self):\n",
    "        return 4 * self.side\n",
    "    "
   ]
  },
  {
   "cell_type": "code",
   "execution_count": 3,
   "metadata": {},
   "outputs": [
    {
     "name": "stdout",
     "output_type": "stream",
     "text": [
      "78.53981633974483\n",
      "31.41592653589793\n",
      "9.921567416492215\n",
      "15\n",
      "25\n",
      "20\n"
     ]
    }
   ],
   "source": [
    "circle = Circle(5)\n",
    "print(circle.area())\n",
    "print(circle.perimeter())\n",
    "triangle = Triangle(4, 5, 6)\n",
    "print(triangle.area())\n",
    "print(triangle.perimeter())\n",
    "square = Square(5)\n",
    "print(square.area())\n",
    "print(square.perimeter())"
   ]
  },
  {
   "cell_type": "code",
   "execution_count": 2,
   "metadata": {},
   "outputs": [],
   "source": [
    "class Node:\n",
    "    def __init__(self, value):\n",
    "        self.value = value\n",
    "        self.left = None\n",
    "        self.right = None\n",
    "class BinarySearchTree:\n",
    "    def __init__(self):\n",
    "        self.root = None\n",
    "    def insert(self, value):\n",
    "        if self.root is None:\n",
    "            self.root = Node(value)\n",
    "        else:\n",
    "            self._insert_rec(self.root, value)\n",
    "    def _insert_rec(self, current_val, value):\n",
    "        if value < current_val.value:\n",
    "            if current_val.left is None:\n",
    "                current_val.left = Node(value)  \n",
    "            else:\n",
    "                self._insert_rec(current_val.left, value) \n",
    "       \n",
    "        elif value > current_val.value:\n",
    "            if current_val.right is None:\n",
    "                current_val.right = Node(value)  \n",
    "            else:\n",
    "                self._insert_rec(current_val.right, value)  \n",
    "\n",
    "    def search(self, value):\n",
    "        return self._search_rec(self.root, value)\n",
    "    def _search_rec(self, current_val, value):\n",
    "      \n",
    "        if current_val is None:\n",
    "            return False\n",
    "     \n",
    "        if value == current_val.value:\n",
    "            return True\n",
    "        \n",
    "        if value < current_val.value:\n",
    "            return self._search_rec(current_val.left, value)\n",
    "        \n",
    "        return self._search_rec(current_val.right, value)"
   ]
  },
  {
   "cell_type": "code",
   "execution_count": 4,
   "metadata": {},
   "outputs": [
    {
     "name": "stdout",
     "output_type": "stream",
     "text": [
      "True\n",
      "False\n"
     ]
    }
   ],
   "source": [
    "bst = BinarySearchTree()\n",
    "\n",
    "bst.insert(50)\n",
    "bst.insert(30)\n",
    "bst.insert(70)\n",
    "bst.insert(20)\n",
    "bst.insert(40)\n",
    "bst.insert(60)\n",
    "bst.insert(80)\n",
    "\n",
    "print(bst.search(40))  \n",
    "print(bst.search(90))  \n"
   ]
  },
  {
   "cell_type": "code",
   "execution_count": 4,
   "metadata": {},
   "outputs": [
    {
     "name": "stdout",
     "output_type": "stream",
     "text": [
      "[1, 2, 3]\n",
      "3\n",
      "2\n",
      "2\n",
      "[1, 2]\n"
     ]
    }
   ],
   "source": [
    "class StackDataStructure:\n",
    "    def __init__(self):\n",
    "        self.stack = []\n",
    "    def push(self, value):\n",
    "        self.stack.append(value)\n",
    "    def pop(self):\n",
    "        if not self.is_empty():\n",
    "            return self.stack.pop()\n",
    "        else:\n",
    "            return \"Stack is empty\"\n",
    "    def peek(self):\n",
    "        if not self.is_empty():\n",
    "            return self.stack[-1]\n",
    "        else:\n",
    "            return \"Stack is empty\"\n",
    "    def is_empty(self):\n",
    "        return len(self.stack) == 0\n",
    "    def size(self):\n",
    "        return len(self.stack)\n",
    "    def display(self):\n",
    "        if not self.is_empty():\n",
    "            return self.stack\n",
    "        else:\n",
    "            return \"Stack is empty\"\n",
    "stack = StackDataStructure()\n",
    "stack.push(1)\n",
    "stack.push(2)\n",
    "stack.push(3)\n",
    "print(stack.display())\n",
    "print(stack.pop())      \n",
    "print(stack.peek())\n",
    "print(stack.size())\n",
    "print(stack.display())"
   ]
  },
  {
   "cell_type": "code",
   "execution_count": 6,
   "metadata": {},
   "outputs": [
    {
     "name": "stdout",
     "output_type": "stream",
     "text": [
      "[1, 2, 3]\n",
      "[1, 3]\n"
     ]
    }
   ],
   "source": [
    "class Node:\n",
    "    def __init__(self, value):\n",
    "        self.value = value\n",
    "        self.next = None\n",
    "class LinkedListDataStructure:\n",
    "    def __init__(self):\n",
    "        self.head = None\n",
    "    def append(self, value):\n",
    "        if not self.head:\n",
    "            self.head = Node(value)\n",
    "        else:\n",
    "            current = self.head\n",
    "            while current.next:\n",
    "                current = current.next\n",
    "            current.next = Node(value)\n",
    "    def delete(self, value):\n",
    "        if not self.head:\n",
    "            return \"List is empty\"\n",
    "        if self.head.value == value:\n",
    "            self.head = self.head.next\n",
    "            return\n",
    "        current = self.head\n",
    "        while current.next and current.next.value != value:\n",
    "            current = current.next\n",
    "        if current.next:\n",
    "            current.next = current.next.next\n",
    "        else:\n",
    "            return \"Value not found in the list\"\n",
    "    def display(self):\n",
    "        current = self.head\n",
    "        values = []\n",
    "        while current:\n",
    "            values.append(current.value)\n",
    "            current = current.next\n",
    "        return values\n",
    "lst = LinkedListDataStructure()\n",
    "lst.append(1)\n",
    "lst.append(2)\n",
    "lst.append(3)\n",
    "print(lst.display())\n",
    "lst.delete(2)   \n",
    "print(lst.display())\n",
    "        "
   ]
  },
  {
   "cell_type": "code",
   "execution_count": 7,
   "metadata": {},
   "outputs": [
    {
     "name": "stdout",
     "output_type": "stream",
     "text": [
      "{'apple': 1.5, 'banana': 2.0, 'orange': 1.0}\n",
      "4.5\n",
      "{'apple': 1.5, 'orange': 1.0}\n",
      "2.5\n"
     ]
    }
   ],
   "source": [
    "class ShoppingCart:\n",
    "    def __init__(self):\n",
    "        self.cart = {}\n",
    "    def add_item(self, item, price):\n",
    "        if item in self.cart:\n",
    "            self.cart[item] += price\n",
    "        else:\n",
    "            self.cart[item] = price\n",
    "    def remove_item(self, item):\n",
    "        if item in self.cart:\n",
    "            del self.cart[item]\n",
    "        else:\n",
    "            return \"Item not found in cart\"\n",
    "    def total_price(self):\n",
    "        return sum(self.cart.values())\n",
    "    def display_cart(self):\n",
    "        return self.cart\n",
    "cart = ShoppingCart()\n",
    "cart.add_item(\"apple\", 1.5)\n",
    "cart.add_item(\"banana\", 2.0)\n",
    "cart.add_item(\"orange\", 1.0)\n",
    "print(cart.display_cart())\n",
    "print(cart.total_price())\n",
    "cart.remove_item(\"banana\")\n",
    "print(cart.display_cart())\n",
    "print(cart.total_price())"
   ]
  },
  {
   "cell_type": "code",
   "execution_count": 8,
   "metadata": {},
   "outputs": [],
   "source": [
    "class StackwithDisplay:\n",
    "    def __init__(self):\n",
    "        self.stack = []\n",
    "    def push(self, value):\n",
    "        self.stack.append(value)\n",
    "    def pop(self):\n",
    "        if not self.is_empty():\n",
    "            return self.stack.pop()\n",
    "        else:\n",
    "            return \"Stack is empty\"\n",
    "    def peek(self):\n",
    "        if not self.is_empty():\n",
    "            return self.stack[-1]\n",
    "        else:\n",
    "            return \"Stack is empty\"\n",
    "    def is_empty(self):\n",
    "        return len(self.stack) == 0\n",
    "    def size(self):\n",
    "        return len(self.stack)\n",
    "    def display(self):\n",
    "        if not self.is_empty():\n",
    "            return self.stack\n",
    "        else:\n",
    "            return \"Stack is empty\""
   ]
  },
  {
   "cell_type": "code",
   "execution_count": 9,
   "metadata": {},
   "outputs": [
    {
     "name": "stdout",
     "output_type": "stream",
     "text": [
      "[1, 2, 3]\n",
      "1\n",
      "2\n",
      "3\n",
      "2\n",
      "[2, 3]\n"
     ]
    }
   ],
   "source": [
    "class QueueDataStructure:\n",
    "    def __init__(self):\n",
    "        self.queue = []\n",
    "    def enqueue(self, value):\n",
    "        self.queue.append(value)\n",
    "    def dequeue(self):\n",
    "        if not self.is_empty():\n",
    "            return self.queue.pop(0)\n",
    "        else:\n",
    "            return \"Queue is empty\"\n",
    "    def front(self):\n",
    "        if not self.is_empty():\n",
    "            return self.queue[0]\n",
    "        else:\n",
    "            return \"Queue is empty\"\n",
    "    def rear(self):\n",
    "        if not self.is_empty():\n",
    "            return self.queue[-1]\n",
    "        else:\n",
    "            return \"Queue is empty\"\n",
    "    def is_empty(self):\n",
    "        return len(self.queue) == 0\n",
    "    def size(self):\n",
    "        return len(self.queue)\n",
    "    def display(self):\n",
    "        if not self.is_empty():\n",
    "            return self.queue\n",
    "        else:\n",
    "            return \"Queue is empty\"\n",
    "queue = QueueDataStructure()\n",
    "queue.enqueue(1)\n",
    "queue.enqueue(2)\n",
    "queue.enqueue(3)\n",
    "print(queue.display())\n",
    "print(queue.dequeue())\n",
    "print(queue.front())\n",
    "print(queue.rear())\n",
    "print(queue.size())\n",
    "print(queue.display())"
   ]
  },
  {
   "cell_type": "code",
   "execution_count": 1,
   "metadata": {},
   "outputs": [
    {
     "name": "stdout",
     "output_type": "stream",
     "text": [
      "Account 123456 created for John Doe.\n",
      "Account 654321 created for Jane Smith.\n",
      "Accounts:\n",
      "Account Number: 123456, Holder: John Doe, Balance: 1000\n",
      "Account Number: 654321, Holder: Jane Smith, Balance: 500\n",
      "Deposited 500. New balance is 1500.\n",
      "Withdrew 200. New balance is 300.\n",
      "Accounts:\n",
      "Account Number: 123456, Holder: John Doe, Balance: 1500\n",
      "Account Number: 654321, Holder: Jane Smith, Balance: 300\n",
      "Withdrawal amount exceeds balance or is not positive.\n",
      "Account not found.\n",
      "Accounts:\n",
      "Account Number: 123456, Holder: John Doe, Balance: 1500\n",
      "Account Number: 654321, Holder: Jane Smith, Balance: 300\n"
     ]
    }
   ],
   "source": [
    "class Account:\n",
    "    def __init__(self, account_number, account_holder, balance=0):\n",
    "        self.account_number = account_number\n",
    "        self.account_holder = account_holder\n",
    "        self.balance = balance\n",
    "\n",
    "    def deposit(self, amount):\n",
    "        if amount > 0:\n",
    "            self.balance += amount\n",
    "            print(f'Deposited {amount}. New balance is {self.balance}.')\n",
    "        else:\n",
    "            print('Deposit amount must be positive.')\n",
    "\n",
    "    def withdraw(self, amount):\n",
    "        if 0 < amount <= self.balance:\n",
    "            self.balance -= amount\n",
    "            print(f'Withdrew {amount}. New balance is {self.balance}.')\n",
    "        else:\n",
    "            print('Withdrawal amount exceeds balance or is not positive.')\n",
    "\n",
    "    def get_balance(self):\n",
    "        return self.balance\n",
    "class Bank:\n",
    "    def __init__(self):\n",
    "        self.accounts = {}\n",
    "\n",
    "    def create_account(self, account_number, account_holder, initial_balance=0):\n",
    "        if account_number not in self.accounts:\n",
    "            self.accounts[account_number] = Account(account_number, account_holder, initial_balance)\n",
    "            print(f'Account {account_number} created for {account_holder}.')\n",
    "        else:\n",
    "            print('Account already exists.')\n",
    "\n",
    "    def get_account(self, account_number):\n",
    "        return self.accounts.get(account_number, None)\n",
    "    def deposit(self, account_number, amount):\n",
    "        account = self.get_account(account_number)\n",
    "        if account:\n",
    "            account.deposit(amount)\n",
    "        else:\n",
    "            print('Account not found.')\n",
    "    def withdraw(self, account_number, amount):\n",
    "        account = self.get_account(account_number)\n",
    "        if account:\n",
    "            account.withdraw(amount)\n",
    "        else:\n",
    "            print('Account not found.')\n",
    "    def get_balance(self, account_number):\n",
    "        account = self.get_account(account_number)\n",
    "        if account:\n",
    "            return account.get_balance()\n",
    "        else:\n",
    "            print('Account not found.')\n",
    "            return None\n",
    "    def display_accounts(self):\n",
    "        if self.accounts:\n",
    "            print('Accounts:')\n",
    "            for account in self.accounts.values():\n",
    "                print(f'Account Number: {account.account_number}, Holder: {account.account_holder}, Balance: {account.balance}')\n",
    "        else:\n",
    "            print('No accounts available.')\n",
    "bank = Bank()\n",
    "bank.create_account('123456', 'John Doe', 1000)\n",
    "bank.create_account('654321', 'Jane Smith', 500)\n",
    "bank.display_accounts()\n",
    "bank.deposit('123456', 500)\n",
    "bank.withdraw('654321', 200)\n",
    "bank.display_accounts()\n",
    "bank.withdraw('654321', 1000)  \n",
    "bank.get_balance('123456')\n",
    "bank.get_balance('999999')  \n",
    "bank.display_accounts()\n"
   ]
  }
 ],
 "metadata": {
  "kernelspec": {
   "display_name": "Python 3",
   "language": "python",
   "name": "python3"
  },
  "language_info": {
   "codemirror_mode": {
    "name": "ipython",
    "version": 3
   },
   "file_extension": ".py",
   "mimetype": "text/x-python",
   "name": "python",
   "nbconvert_exporter": "python",
   "pygments_lexer": "ipython3",
   "version": "3.13.2"
  }
 },
 "nbformat": 4,
 "nbformat_minor": 2
}
