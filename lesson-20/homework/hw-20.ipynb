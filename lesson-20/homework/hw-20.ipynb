{
 "cells": [
  {
   "cell_type": "code",
   "execution_count": 5,
   "id": "49cd26b6",
   "metadata": {},
   "outputs": [
    {
     "name": "stdout",
     "output_type": "stream",
     "text": [
      "Top 5 Customers by Total Purchase Amount:\n",
      "    CustomerId        CustomerName  Total\n",
      "5            6         Helena Holý  49.62\n",
      "25          26  Richard Cunningham  47.62\n",
      "56          57          Luis Rojas  46.62\n",
      "44          45     Ladislav Kovács  45.62\n",
      "45          46       Hugh O'Reilly  45.62\n",
      "\n",
      "\n",
      "Customer Purchase Preference Summary:\n",
      "Percentage of customers preferring Individual Tracks: 100.00%\n",
      "Percentage of customers preferring Full Albums: 0.00%\n"
     ]
    }
   ],
   "source": [
    "import pandas as pd\n",
    "import sqlite3\n",
    "\n",
    "conn = sqlite3.connect('chinook.db')\n",
    "\n",
    "customers = pd.read_sql_query(\"SELECT * FROM customers\", conn)\n",
    "invoices = pd.read_sql_query(\"SELECT * FROM invoices\", conn)\n",
    "invoice_items = pd.read_sql_query(\"SELECT * FROM invoice_items\", conn)\n",
    "tracks = pd.read_sql_query(\"SELECT * FROM tracks\", conn)\n",
    "\n",
    "# Customer Purchases Analysis\n",
    "customer_spending = customers.merge(invoices, on='CustomerId', how='left')\n",
    "customer_spending['CustomerName'] = customer_spending['FirstName'] + ' ' + customer_spending['LastName']\n",
    "customer_spending = (customer_spending.groupby(['CustomerId', 'CustomerName'])['Total']\n",
    "                    .sum()\n",
    "                    .round(2)\n",
    "                    .reset_index()\n",
    "                    .sort_values(by='Total', ascending=False)\n",
    "                    .head(5))\n",
    "\n",
    "print(\"Top 5 Customers by Total Purchase Amount:\")\n",
    "print(customer_spending[['CustomerId', 'CustomerName', 'Total']])\n",
    "print(\"\\n\")\n",
    "\n",
    "# Album vs. Individual Track Purchases\n",
    "album_tracks = tracks.groupby('AlbumId')['TrackId'].count().reset_index()\n",
    "album_tracks.columns = ['AlbumId', 'TotalTracks']\n",
    "\n",
    "purchase_data = (invoice_items.merge(invoices, on='InvoiceId')\n",
    "                            .merge(tracks[['TrackId', 'AlbumId']], on='TrackId')\n",
    "                            .merge(customers[['CustomerId']], on='CustomerId'))\n",
    "\n",
    "tracks_purchased = (purchase_data.groupby(['CustomerId', 'AlbumId'])['TrackId']\n",
    "                   .nunique()\n",
    "                   .reset_index()\n",
    "                   .rename(columns={'TrackId': 'TracksPurchased'}))\n",
    "\n",
    "purchase_analysis = tracks_purchased.merge(album_tracks, on='AlbumId')\n",
    "\n",
    "purchase_analysis['PurchaseType'] = purchase_analysis.apply(\n",
    "    lambda x: 'Individual Tracks' if x['TracksPurchased'] < x['TotalTracks'] else 'Full Album', axis=1)\n",
    "\n",
    "customer_preference = (purchase_analysis.groupby('CustomerId')['PurchaseType']\n",
    "                      .agg(lambda x: 'Individual Tracks' if 'Individual Tracks' in x.values else 'Full Album')\n",
    "                      .reset_index()\n",
    "                      .rename(columns={'PurchaseType': 'Preference'}))\n",
    "\n",
    "# Calculate percentages\n",
    "total_customers = len(customer_preference)\n",
    "individual_track_customers = len(customer_preference[customer_preference['Preference'] == 'Individual Tracks'])\n",
    "full_album_customers = len(customer_preference[customer_preference['Preference'] == 'Full Album'])\n",
    "\n",
    "individual_percentage = (individual_track_customers / total_customers) * 100\n",
    "full_album_percentage = (full_album_customers / total_customers) * 100\n",
    "\n",
    "print(\"Customer Purchase Preference Summary:\")\n",
    "print(f\"Percentage of customers preferring Individual Tracks: {individual_percentage:.2f}%\")\n",
    "print(f\"Percentage of customers preferring Full Albums: {full_album_percentage:.2f}%\")\n",
    "\n",
    "conn.close()"
   ]
  }
 ],
 "metadata": {
  "kernelspec": {
   "display_name": "Python 3",
   "language": "python",
   "name": "python3"
  },
  "language_info": {
   "codemirror_mode": {
    "name": "ipython",
    "version": 3
   },
   "file_extension": ".py",
   "mimetype": "text/x-python",
   "name": "python",
   "nbconvert_exporter": "python",
   "pygments_lexer": "ipython3",
   "version": "3.13.2"
  }
 },
 "nbformat": 4,
 "nbformat_minor": 5
}
