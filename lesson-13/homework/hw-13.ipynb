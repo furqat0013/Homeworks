{
 "cells": [
  {
   "cell_type": "code",
   "execution_count": 23,
   "id": "7de6fa4d",
   "metadata": {},
   "outputs": [
    {
     "name": "stdout",
     "output_type": "stream",
     "text": [
      "Years: 24, Months: 4, Days: 0\n"
     ]
    }
   ],
   "source": [
    "from datetime import date\n",
    "from dateutil.relativedelta import relativedelta\n",
    "\n",
    "def age_calc(birthdate):\n",
    "    today = date.today()\n",
    "    age = relativedelta(today, birthdate)\n",
    "    return age.years, age.months, age.days\n",
    "a = age_calc(date(2000, 12, 20))\n",
    "print(f\"Years: {a[0]}, Months: {a[1]}, Days: {a[2]}\")"
   ]
  },
  {
   "cell_type": "code",
   "execution_count": 2,
   "id": "087fc339",
   "metadata": {},
   "outputs": [
    {
     "name": "stdout",
     "output_type": "stream",
     "text": [
      "Days until next birthday: 243\n"
     ]
    }
   ],
   "source": [
    "from datetime import date\n",
    "from dateutil.relativedelta import relativedelta\n",
    "\n",
    "def next_birthday(birthday):\n",
    "    today = date.today()\n",
    "    next_birthday_date = birthday.replace(year=today.year)\n",
    "    if next_birthday_date < today:\n",
    "        next_birthday_date += relativedelta(years=1)\n",
    "    days = next_birthday_date - today\n",
    "    return days\n",
    "\n",
    "a = next_birthday(date(2000, 12, 20))\n",
    "print(f\"Days until next birthday: {a.days}\")"
   ]
  },
  {
   "cell_type": "code",
   "execution_count": 7,
   "id": "70311ddd",
   "metadata": {},
   "outputs": [
    {
     "name": "stdout",
     "output_type": "stream",
     "text": [
      "Meeting end time: 2025-10-20 16:30\n"
     ]
    }
   ],
   "source": [
    "import datetime\n",
    "def meeting_schedular(start, duration):\n",
    "    start = datetime.datetime.strptime(start, \"%Y-%m-%d %H:%M\")\n",
    "    duration = datetime.timedelta(hours=duration[0], minutes=duration[1])\n",
    "    end_time = start + duration\n",
    "    return end_time.strftime(\"%Y-%m-%d %H:%M\")\n",
    "meeting = meeting_schedular(\"2025-10-20 14:00\", (2, 30))\n",
    "print(f\"Meeting end time: {meeting}\")\n"
   ]
  },
  {
   "cell_type": "code",
   "execution_count": null,
   "id": "b162c09d",
   "metadata": {},
   "outputs": [
    {
     "name": "stdout",
     "output_type": "stream",
     "text": [
      "Converted date: 2025-12-21 02:00\n"
     ]
    }
   ],
   "source": [
    "from datetime import datetime\n",
    "import pytz\n",
    "def convert_timezone(date_str, from_tz, to_tz):\n",
    "    date_o = datetime.strptime(date_str, \"%Y-%m-%d %H:%M\")\n",
    "    from_timezone = pytz.timezone(from_tz)\n",
    "    to_timezone = pytz.timezone(to_tz)\n",
    "    date_o = from_timezone.localize(date_o)\n",
    "    converted_date = date_o.astimezone(to_timezone)\n",
    "    return converted_date.strftime(\"%Y-%m-%d %H:%M\")\n",
    "converted_date = convert_timezone(\"2025-12-20 16:00\", \"America/New_York\", \"Asia/Tashkent\")\n",
    "print(f\"Converted date: {converted_date}\")"
   ]
  },
  {
   "cell_type": "code",
   "execution_count": 22,
   "id": "c65089c9",
   "metadata": {},
   "outputs": [
    {
     "name": "stdout",
     "output_type": "stream",
     "text": [
      "Countdown: 243 days, 2 hours, 22 minutes, 40 seconds\n"
     ]
    }
   ],
   "source": [
    "from datetime import datetime\n",
    "def countdown_timer(t_date):\n",
    "    t_date = datetime.strptime(t_date, \"%Y-%m-%d %H:%M:%S\")\n",
    "    now = datetime.now()\n",
    "    countdown = t_date - now\n",
    "    return countdown\n",
    "countdown = countdown_timer(\"2025-12-20 16:00:00\")\n",
    "print(f\"Countdown: {countdown.days} days, {countdown.seconds // 3600} hours, {(countdown.seconds // 60) % 60} minutes, {countdown.seconds % 60} seconds\")"
   ]
  },
  {
   "cell_type": "code",
   "execution_count": null,
   "id": "3111afeb",
   "metadata": {},
   "outputs": [
    {
     "name": "stdout",
     "output_type": "stream",
     "text": [
      "Email is valid: True\n"
     ]
    }
   ],
   "source": [
    "import re\n",
    "def email_validator(email):\n",
    "    pattern = r'^[a-zA-Z0-9_.+-]+@[a-zA-Z0-9-]+\\.[a-zA-Z0-9-.]+$'\n",
    "    if re.match(pattern, email):\n",
    "        return True\n",
    "    else:\n",
    "        return False\n",
    "email = email_validator('Lagan@gmail.com')\n",
    "print(f\"Email is valid: {email}\")"
   ]
  },
  {
   "cell_type": "code",
   "execution_count": 33,
   "id": "081d1d9b",
   "metadata": {},
   "outputs": [
    {
     "name": "stdout",
     "output_type": "stream",
     "text": [
      "Formatted phone number: (123) 456-7890\n"
     ]
    }
   ],
   "source": [
    "import re\n",
    "def phone_num_form(phone_number):\n",
    "    pattern = r'(\\d{3})(\\d{3})(\\d{4})'\n",
    "    formatted_number = re.sub(pattern, r'(\\1) \\2-\\3', phone_number)\n",
    "    return formatted_number\n",
    "phone_number = phone_num_form('1234567890')\n",
    "print(f\"Formatted phone number: {phone_number}\")"
   ]
  },
  {
   "cell_type": "code",
   "execution_count": 35,
   "id": "508d72d2",
   "metadata": {},
   "outputs": [
    {
     "name": "stdout",
     "output_type": "stream",
     "text": [
      "Password strength: Strong\n"
     ]
    }
   ],
   "source": [
    "import re\n",
    "def password_strength(password):\n",
    "    if len(password) < 8:\n",
    "        return \"Weak\"\n",
    "    if not re.search(r'\\d', password):\n",
    "        return \"Weak\"\n",
    "    if not re.search(r'[A-Z]', password):\n",
    "        return \"Weak\"\n",
    "    if not re.search(r'[a-z]', password):\n",
    "        return \"Weak\"\n",
    "    if not re.search(r'[@$!%*?&]', password):\n",
    "        return \"Weak\"\n",
    "    return \"Strong\"\n",
    "password = password_strength(\"Password123!\")    \n",
    "print(f\"Password strength: {password}\")"
   ]
  },
  {
   "cell_type": "code",
   "execution_count": null,
   "id": "661effbb",
   "metadata": {},
   "outputs": [
    {
     "name": "stdout",
     "output_type": "stream",
     "text": [
      "Word 'tes' found 0 times in the text.\n"
     ]
    }
   ],
   "source": [
    "import re\n",
    "def word_finder(word, text):\n",
    "    pattern = r'\\b' + re.escape(word) + r'\\b'\n",
    "    matches = re.findall(pattern, text)\n",
    "    return len(matches)\n",
    "text = \"This is a test. This test is only a test.\"\n",
    "word = \"test\"\n",
    "c = word_finder(word, text)\n",
    "print(f\"Word '{word}' found {c} times in the text.\")"
   ]
  },
  {
   "cell_type": "code",
   "execution_count": 38,
   "id": "4dc7b048",
   "metadata": {},
   "outputs": [
    {
     "name": "stdout",
     "output_type": "stream",
     "text": [
      "Extracted dates: ['2025-12-20', '2025-11-30']\n"
     ]
    }
   ],
   "source": [
    "import re\n",
    "def date_extractor(text):\n",
    "    pattern = r'\\b\\d{4}-\\d{2}-\\d{2}\\b'\n",
    "    dates = re.findall(pattern, text)\n",
    "    return dates\n",
    "text = \"The event is scheduled for 2025-12-20 and the deadline is 2025-11-30.\"\n",
    "dates = date_extractor(text)\n",
    "print(f\"Extracted dates: {dates}\")"
   ]
  }
 ],
 "metadata": {
  "kernelspec": {
   "display_name": "Python 3",
   "language": "python",
   "name": "python3"
  },
  "language_info": {
   "codemirror_mode": {
    "name": "ipython",
    "version": 3
   },
   "file_extension": ".py",
   "mimetype": "text/x-python",
   "name": "python",
   "nbconvert_exporter": "python",
   "pygments_lexer": "ipython3",
   "version": "3.13.2"
  }
 },
 "nbformat": 4,
 "nbformat_minor": 5
}
